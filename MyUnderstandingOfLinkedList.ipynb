{
  "nbformat": 4,
  "nbformat_minor": 0,
  "metadata": {
    "colab": {
      "provenance": []
    },
    "kernelspec": {
      "name": "python3",
      "display_name": "Python 3"
    },
    "language_info": {
      "name": "python"
    }
  },
  "cells": [
    {
      "cell_type": "code",
      "source": [
        "#creating a class Node\n",
        "class Node:\n",
        "  def __init__(self,data):\n",
        "    self.value = data\n",
        "    self.next = None"
      ],
      "metadata": {
        "id": "N3VHHvOGhxr7"
      },
      "execution_count": null,
      "outputs": []
    },
    {
      "cell_type": "code",
      "source": [
        "#Creating head node\n",
        "head = Node(1)\n",
        "\n",
        "#checking if its created\n",
        "print(head)\n",
        "print(head.value)"
      ],
      "metadata": {
        "colab": {
          "base_uri": "https://localhost:8080/"
        },
        "id": "Z5AIpmr7iFj3",
        "outputId": "8e4c5c49-1b88-465c-e6aa-105c34986448"
      },
      "execution_count": null,
      "outputs": [
        {
          "output_type": "stream",
          "name": "stdout",
          "text": [
            "<__main__.Node object at 0x7ae1abccfdf0>\n",
            "1\n"
          ]
        }
      ]
    },
    {
      "cell_type": "code",
      "source": [
        "#Adding upto 5 elements in the LL via for loop\n",
        "\n",
        "arr = [2,3,4,5]\n",
        "current = head\n",
        "\n",
        "for i in arr:\n",
        "  current.next = Node(i)\n",
        "  current = current.next"
      ],
      "metadata": {
        "id": "mM5MilwriRvd"
      },
      "execution_count": null,
      "outputs": []
    },
    {
      "cell_type": "code",
      "source": [
        "#printing all elements in LL\n",
        "\n",
        "current = head\n",
        "while current is not None:\n",
        "  print(current.value, end = \" \")\n",
        "  current = current.next"
      ],
      "metadata": {
        "colab": {
          "base_uri": "https://localhost:8080/"
        },
        "id": "3OB6qUWuivzI",
        "outputId": "85eb22c9-2922-4832-b776-3c9a8f26f3cc"
      },
      "execution_count": null,
      "outputs": [
        {
          "output_type": "stream",
          "name": "stdout",
          "text": [
            "1 2 3 4 5 "
          ]
        }
      ]
    },
    {
      "cell_type": "markdown",
      "source": [
        "**Now we know our linkedlist is created**\n",
        "\n",
        "We will do linkedlist Lookup\n",
        "\n",
        "```\n",
        "1. First we will define current varible and assign it to head. Because we dont want head to move\n",
        "2. Then we will run while loop till current is not None. current =  None indicate end of the linkedlist\n",
        "3. Within while loop we will make sure to do current = current.next to increment the current position\n",
        "```"
      ],
      "metadata": {
        "id": "n7h5JxzvjVUa"
      }
    },
    {
      "cell_type": "code",
      "source": [
        "#Here we are trying to either print all the element or element at particular position\n",
        "def printing_ll(head, position):\n",
        "  current = head\n",
        "  pos = position\n",
        "  count = 0\n",
        "\n",
        "  while count < pos and current is not None:\n",
        "    #print(current.value, end = \" \")\n",
        "    current = current.next\n",
        "    count += 1\n",
        "\n",
        "  print(current.value)\n",
        "printing_ll(head,3)"
      ],
      "metadata": {
        "colab": {
          "base_uri": "https://localhost:8080/"
        },
        "id": "yNSwbTN1kQRB",
        "outputId": "a566b533-668e-4e79-bd60-e56aff70f4cc"
      },
      "execution_count": null,
      "outputs": [
        {
          "output_type": "stream",
          "name": "stdout",
          "text": [
            "4\n"
          ]
        }
      ]
    },
    {
      "cell_type": "code",
      "source": [
        "current = head\n",
        "while current is not None:\n",
        "  print(current.value, end = \" \")\n",
        "  current = current.next"
      ],
      "metadata": {
        "colab": {
          "base_uri": "https://localhost:8080/"
        },
        "id": "lVrAVOoAmNtg",
        "outputId": "9e04f9de-d019-4451-f252-702a4d6c28bb"
      },
      "execution_count": null,
      "outputs": [
        {
          "output_type": "stream",
          "name": "stdout",
          "text": [
            "1 2 3 4 5 "
          ]
        }
      ]
    },
    {
      "cell_type": "markdown",
      "source": [
        "Now we will try to **insert** at particular location in linkedlist"
      ],
      "metadata": {
        "id": "DvMeuASxl08t"
      }
    },
    {
      "cell_type": "code",
      "source": [
        "def insert_ll(head, position, value):\n",
        "  current = head\n",
        "  index = position\n",
        "  value = value\n",
        "\n",
        "  if index == 0:\n",
        "    new_node = Node(value)\n",
        "    new_node.next = current\n",
        "    #print(\"new\",new_node)\n",
        "    head = new_node\n",
        "\n",
        "    \"\"\"\n",
        "    current = head\n",
        "    while current is not None:\n",
        "      print(current.value, end = \" \")\n",
        "      current = current.next\n",
        "    \"\"\"\n",
        "  else:\n",
        "    count = 0\n",
        "    current = head\n",
        "    previous = None\n",
        "\n",
        "    while count < index and current is not None:\n",
        "      previous = current #(its acting as x)\n",
        "      current = current.next #(its acting as y) Note- current is getting changed, basically current has to move one step ahead (in a way)\n",
        "      count += 1\n",
        "\n",
        "    new_node = Node(value) #(its our n)\n",
        "    new_node.next = previous.next\n",
        "    previous.next = new_node\n",
        "\n",
        "\n",
        "  return head\n",
        "\n",
        "head = insert_ll(head,2,7)"
      ],
      "metadata": {
        "id": "77EOjnpXl5w8"
      },
      "execution_count": null,
      "outputs": []
    },
    {
      "cell_type": "code",
      "source": [
        "current = head\n",
        "while current is not None:\n",
        "  print(current.value, end = \" \")\n",
        "  current = current.next"
      ],
      "metadata": {
        "colab": {
          "base_uri": "https://localhost:8080/"
        },
        "id": "SnqsK2epmbB6",
        "outputId": "64ebdbf1-ee9a-4e8b-c591-c2609fdd1ce8"
      },
      "execution_count": null,
      "outputs": [
        {
          "output_type": "stream",
          "name": "stdout",
          "text": [
            "1 2 7 3 4 5 "
          ]
        }
      ]
    },
    {
      "cell_type": "markdown",
      "source": [
        "Now we will try to **delete** from any position"
      ],
      "metadata": {
        "id": "6Z47t1Ufr_p1"
      }
    },
    {
      "cell_type": "code",
      "source": [
        "def delete_ll(head,position):\n",
        "  head = head\n",
        "  curr = head\n",
        "  index = position\n",
        "\n",
        "  if curr == None:\n",
        "    return None\n",
        "\n",
        "  elif index == 0:\n",
        "    new_head = head.next\n",
        "    head.next = None #making sure previous head is not pointing to current head\n",
        "    head = new_head\n",
        "    return head\n",
        "\n",
        "  else:\n",
        "    count = 0\n",
        "    previous = None\n",
        "\n",
        "    while count < index and curr is not None:\n",
        "      previous = curr\n",
        "      curr = curr.next #note here also current is getting deleted. so basically take your pointer to current when you want to add/delete the element\n",
        "      count += 1\n",
        "\n",
        "    previous.next = curr.next\n",
        "    curr.next = None\n",
        "    curr = previous.next\n",
        "\n",
        "  return head\n",
        "\n",
        "head = delete_ll(head,2)\n",
        "\n",
        "\n"
      ],
      "metadata": {
        "id": "GGbFQkV9r_UW"
      },
      "execution_count": null,
      "outputs": []
    },
    {
      "cell_type": "code",
      "source": [
        "current = head\n",
        "while current is not None:\n",
        "  print(current.value, end = \" \")\n",
        "  current = current.next"
      ],
      "metadata": {
        "colab": {
          "base_uri": "https://localhost:8080/"
        },
        "id": "4OZIFIg3uXj8",
        "outputId": "f80a41b3-c685-4ad6-84cb-453290c8876c"
      },
      "execution_count": null,
      "outputs": [
        {
          "output_type": "stream",
          "name": "stdout",
          "text": [
            "1 2 3 4 5 "
          ]
        }
      ]
    },
    {
      "cell_type": "markdown",
      "source": [
        "Trying to **reverse** the linkedlist\n",
        "\n",
        "```\n",
        "As far as I remember, we will maintain 3 pointers- previous, current, after\n",
        "step1- current.next will point to previous\n",
        "step2- previous.next will point to None\n",
        "step3- previous = current\n",
        "step4- current = after\n",
        "step5- after = after.next\n",
        "```\n",
        "Lets try to implement it"
      ],
      "metadata": {
        "id": "8vLgV7Mkuvk7"
      }
    },
    {
      "cell_type": "code",
      "source": [
        "def reverse_ll(head):\n",
        "  if head is None:\n",
        "    return None\n",
        "  elif head.next is None:\n",
        "    return head\n",
        "  elif head.next.next is None:\n",
        "    previous = head\n",
        "    head = head.next\n",
        "    head.next = previous\n",
        "    previous.next = None\n",
        "    return head\n",
        "  else:\n",
        "    previous = None\n",
        "    head = head\n",
        "    after = head.next\n",
        "\n",
        "    while after is not None:\n",
        "      head.next = previous\n",
        "      #previous.next = None\n",
        "      previous = head\n",
        "      head = after\n",
        "      after = after.next\n",
        "\n",
        "    head.next = previous\n",
        "\n",
        "  return head\n",
        "\n",
        "head = reverse_ll(head)"
      ],
      "metadata": {
        "id": "iBJiPk2kvWiD"
      },
      "execution_count": null,
      "outputs": []
    },
    {
      "cell_type": "code",
      "source": [
        "current = head\n",
        "while current is not None:\n",
        "  print(current.value, end = \" \")\n",
        "  current = current.next"
      ],
      "metadata": {
        "colab": {
          "base_uri": "https://localhost:8080/"
        },
        "id": "7COv2kVhxieb",
        "outputId": "7276338c-cd89-48e7-a649-dcef77c3ead4"
      },
      "execution_count": null,
      "outputs": [
        {
          "output_type": "stream",
          "name": "stdout",
          "text": [
            "5 4 3 2 1 "
          ]
        }
      ]
    }
  ]
}